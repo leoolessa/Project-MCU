{
 "cells": [
  {
   "cell_type": "code",
   "execution_count": 1,
   "metadata": {},
   "outputs": [],
   "source": [
    "import csv\n",
    "import os"
   ]
  },
  {
   "cell_type": "code",
   "execution_count": 2,
   "metadata": {},
   "outputs": [],
   "source": [
    "def save_as_csv(input_string, filename):\n",
    "    lines = input_string.strip().split('\\n')\n",
    "    data_lines = lines[1:]\n",
    "    data = []\n",
    "    for line in data_lines:\n",
    "        values = line.split('\\t')\n",
    "        data.append(values)\n",
    "    header = [\"Units\", \"Comic-book Title\", \"Issue\", \"Price\",'On sale', \"Publisher\", \"Est. units\"]\n",
    "    if not filename.endswith('.csv'):\n",
    "        filename += '.csv'\n",
    "    data_folder = 'data/datasets'\n",
    "    if not os.path.exists(data_folder):\n",
    "        os.makedirs(data_folder)\n",
    "    filepath = os.path.join(data_folder, filename)\n",
    "    with open(filepath, 'w', newline='') as csvfile:\n",
    "        csv_writer = csv.writer(csvfile)\n",
    "        csv_writer.writerow(header)\n",
    "        csv_writer.writerows(data)"
   ]
  },
  {
   "cell_type": "code",
   "execution_count": 3,
   "metadata": {},
   "outputs": [],
   "source": [
    "input_string = '''\n",
    "Units\tComic-book Title\tIssue\tPrice\tOn sale\tPublisher\tEst. units\n",
    "'''"
   ]
  },
  {
   "cell_type": "code",
   "execution_count": 4,
   "metadata": {},
   "outputs": [],
   "source": [
    "filename = input(\"sales:\")\n",
    "save_as_csv(input_string, filename)"
   ]
  }
 ],
 "metadata": {
  "kernelspec": {
   "display_name": "Python 3",
   "language": "python",
   "name": "python3"
  },
  "language_info": {
   "codemirror_mode": {
    "name": "ipython",
    "version": 3
   },
   "file_extension": ".py",
   "mimetype": "text/x-python",
   "name": "python",
   "nbconvert_exporter": "python",
   "pygments_lexer": "ipython3",
   "version": "3.11.3"
  }
 },
 "nbformat": 4,
 "nbformat_minor": 2
}
