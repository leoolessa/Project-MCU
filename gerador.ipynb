{
 "cells": [
  {
   "cell_type": "code",
   "execution_count": 1,
   "metadata": {},
   "outputs": [],
   "source": [
    "import csv\n",
    "import os"
   ]
  },
  {
   "cell_type": "code",
   "execution_count": 2,
   "metadata": {},
   "outputs": [],
   "source": [
    "def save_as_csv(input_string, filename):\n",
    "    # Dividir a string pelas quebras de linha\n",
    "    lines = input_string.strip().split('\\n')\n",
    "\n",
    "    # Remover o cabeçalho, pois será adicionado manualmente\n",
    "    data_lines = lines[1:]\n",
    "\n",
    "    # Processar cada linha e extrair os valores\n",
    "    data = []\n",
    "    for line in data_lines:\n",
    "        values = line.split('\\t')\n",
    "        data.append(values)\n",
    "\n",
    "    # Adicionar cabeçalho\n",
    "    header = [\"Units\", \"Dollars\", \"Comic-book Title\", \"Issue\", \"Price\", \"Publisher\", \"Est. units\"]\n",
    "\n",
    "    # Perguntar pelo nome do arquivo\n",
    "    if not filename.endswith('.csv'):\n",
    "        filename += '.csv'\n",
    "\n",
    "    # Caminho para a pasta \"data\"\n",
    "    data_folder = 'data'\n",
    "    if not os.path.exists(data_folder):\n",
    "        os.makedirs(data_folder)\n",
    "\n",
    "    filepath = os.path.join(data_folder, filename)\n",
    "\n",
    "    # Escrever os dados no arquivo CSV\n",
    "    with open(filepath, 'w', newline='') as csvfile:\n",
    "        csv_writer = csv.writer(csvfile)\n",
    "        csv_writer.writerow(header)\n",
    "        csv_writer.writerows(data)"
   ]
  },
  {
   "cell_type": "code",
   "execution_count": 20,
   "metadata": {},
   "outputs": [],
   "source": [
    "input_string = '''\n",
    "Units\tDollars\tComic-book Title\tIssue\tPrice\tPublisher\tEst. units\n",
    "\n",
    "'''"
   ]
  },
  {
   "cell_type": "code",
   "execution_count": 21,
   "metadata": {},
   "outputs": [],
   "source": [
    "filename = input(\"sales:\")\n",
    "save_as_csv(input_string, filename)"
   ]
  }
 ],
 "metadata": {
  "kernelspec": {
   "display_name": "Python 3",
   "language": "python",
   "name": "python3"
  },
  "language_info": {
   "codemirror_mode": {
    "name": "ipython",
    "version": 3
   },
   "file_extension": ".py",
   "mimetype": "text/x-python",
   "name": "python",
   "nbconvert_exporter": "python",
   "pygments_lexer": "ipython3",
   "version": "3.11.3"
  }
 },
 "nbformat": 4,
 "nbformat_minor": 2
}
