{
 "cells": [
  {
   "cell_type": "code",
   "execution_count": 1,
   "metadata": {},
   "outputs": [],
   "source": [
    "import pandas as pd \n",
    "import numpy as np"
   ]
  },
  {
   "cell_type": "code",
   "execution_count": 2,
   "metadata": {},
   "outputs": [],
   "source": [
    "movies = pd.read_csv('data/data_marvel.csv')"
   ]
  },
  {
   "cell_type": "code",
   "execution_count": 3,
   "metadata": {},
   "outputs": [],
   "source": [
    "sales_2008 = pd.read_csv('data/sales_2008.csv')\n",
    "sales_2009 = pd.read_csv('data/sales_2009.csv')\n",
    "sales_2010 = pd.read_csv('data/sales_2010.csv')\n",
    "sales_2011 = pd.read_csv('data/sales_2011.csv')\n",
    "sales_2012 = pd.read_csv('data/sales_2012.csv')\n",
    "sales_2013 = pd.read_csv('data/sales_2013.csv')\n",
    "sales_2014 = pd.read_csv('data/sales_2014.csv')\n",
    "sales_2015 = pd.read_csv('data/sales_2015.csv')\n",
    "sales_2016 = pd.read_csv('data/sales_2016.csv')\n",
    "sales_2017 = pd.read_csv('data/sales_2017.csv')\n",
    "sales_2018 = pd.read_csv('data/sales_2018.csv')\n",
    "sales_2019 = pd.read_csv('data/sales_2019.csv')\n",
    "sales_2020 = pd.read_csv('data/sales_2020.csv')\n",
    "sales_2021 = pd.read_csv('data/sales_2021.csv')"
   ]
  },
  {
   "cell_type": "code",
   "execution_count": 4,
   "metadata": {},
   "outputs": [],
   "source": [
    "def ccleaner(data, date):\n",
    "    data['Publish Date'] = date\n",
    "    second_column = data.pop('Publish Date')\n",
    "    data.insert(1, 'Publish Date', second_column)\n",
    "    data['Price'] = data['Price'].replace('[\\$,]', '', regex=True).astype(float)\n",
    "    data['Est. units'] = data['Est. units'].replace(',', '', regex=True).astype(float)\n",
    "    data['Total'] = data['Price'] * data['Est. units']\n",
    "    data['Comic_ID'] = data.index\n",
    "    \n",
    "    data_list = []\n",
    "    df = pd.DataFrame(columns=['Comic_ID', 'Publish Date', 'Comic-book Title', 'Price', 'Publisher', 'Est. units', 'Total'])\n",
    "    \n",
    "    for index, result in data.iterrows():\n",
    "        local = {}\n",
    "        local['Comic_ID'] = result['Comic_ID']\n",
    "        local['Publish Date'] = result['Publish Date']\n",
    "        local['Comic-book Title'] = result['Comic-book Title']\n",
    "        local['Price'] = result['Price']\n",
    "        local['Publisher'] = result['Publisher']\n",
    "        local['Est. units'] = result['Est. units']\n",
    "        local['Total'] = result['Total']\n",
    "        data_list.append(local)\n",
    "        \n",
    "    df = pd.DataFrame(data_list)\n",
    "    file_name = f'comic_{date}.csv'\n",
    "    df.to_csv(f'data/{file_name}', index=False)   \n",
    "    return df"
   ]
  },
  {
   "cell_type": "code",
   "execution_count": 5,
   "metadata": {},
   "outputs": [],
   "source": [
    "def creator(data, check_list, date):\n",
    "    matches = data[data['Comic-book Title'].str.contains('|'.join(check_list))]\n",
    "    result_dict = {}\n",
    "    for valor_b in check_list:\n",
    "        matching_rows = matches[matches['Comic-book Title'].str.contains(valor_b)]\n",
    "        if not matching_rows.empty:\n",
    "            result_dict[valor_b] = {'Name': valor_b, 'Total': matching_rows['Total'].sum()} \n",
    "    result_df = pd.DataFrame.from_dict(result_dict, orient='index').reset_index()\n",
    "    result_df.columns = ['Character_Name', 'Character_ID', 'Total']\n",
    "    result_df['Character_ID'] = result_df.index\n",
    "    result_df['Date'] = date\n",
    "    result_df['Date'] =result_df['Date'].astype(int)\n",
    "    result_df = result_df[['Character_ID', 'Date', 'Character_Name', 'Total']]\n",
    "    file_name = f'characters_{date}.csv'\n",
    "    result_df.to_csv(f'data/{file_name}', index=False)\n",
    "    return result_df"
   ]
  },
  {
   "cell_type": "code",
   "execution_count": 6,
   "metadata": {},
   "outputs": [],
   "source": [
    "def id_generator(df, check, date, id_name):\n",
    "    identifier = []\n",
    "    check_letter = {'c': 3, 'd': 4, 'h': 8, 'm': 13}\n",
    "    identifier.append(check_letter.get(check, 0))\n",
    "    last_two_digits = df[date] % 100\n",
    "    identifier.append(last_two_digits.unique()[0])\n",
    "    identifier.append(df.index)\n",
    "    df[id_name] = identifier[0] * 10000 + identifier[1] * 100 + identifier[2]\n",
    "    cols = list(df.columns)\n",
    "    cols = [id_name] + cols[:-1]\n",
    "    df = df[cols]\n",
    "    return df"
   ]
  },
  {
   "cell_type": "code",
   "execution_count": 7,
   "metadata": {},
   "outputs": [],
   "source": [
    "def save_csv(data, name):\n",
    "    file_name = f'{name}.csv'\n",
    "    data.to_csv(f'data/{file_name}', index=False)"
   ]
  },
  {
   "cell_type": "code",
   "execution_count": 8,
   "metadata": {},
   "outputs": [],
   "source": [
    "def add_date(data):\n",
    "    data['Release year'] = data['Release date(United States)'].str.extract(r'(\\d{4})')\n",
    "    data['Release year'] = data['Release year'].astype(int)\n",
    "    data.drop('Release date(United States)', axis=1, inplace=True)\n",
    "    second_column = data.pop('Release year')\n",
    "    data.insert(2, 'Release year', second_column)\n",
    "    return data"
   ]
  },
  {
   "cell_type": "code",
   "execution_count": 9,
   "metadata": {},
   "outputs": [],
   "source": [
    "check_list = [\n",
    "    'Absorbing Man', 'A.I.M.', 'Anole', 'Apocalypse', 'Archangel', 'Avalanche', 'Bastion', 'Beast',\n",
    "    'Beyonder', 'Black Panther', 'Black Widow', 'Blob', 'Cable', 'Cannonball', 'Captain America',\n",
    "    'Cassandra Nova', 'Chamber', 'Colossus', 'Crossbones', 'Cypher', 'Daredevil', 'Dark Phoenix',\n",
    "    'Deadpool', 'Doctor Strange', 'Domino', 'Dust', 'Emma Frost', 'Exodus', 'Falcon', 'Fantomex',\n",
    "    'Feral', 'Forge', 'Gambit', 'Gideon', 'Grandmaster', 'Grim Reaper', 'Havok', 'Hela', 'Hellion',\n",
    "    'Hope Summers', 'Hulk', 'Iceman', 'Iron Man', 'Iron Patriot', 'Jean Grey', 'Jean Grey', 'Jubilee',\n",
    "    'Juggernaut', 'Juggernaut', 'Kang', 'Karma', 'Korvac', 'Klaw', 'Lady Deathstrike', 'Living Laser',\n",
    "    'Loki', 'Longshot', 'Luke Cage', 'M.O.D.O.K.', 'Magneto', 'Marrow', 'Mastermind', 'Master Mold',\n",
    "    'Marauders', 'Marvel Boy', 'Multiple Man', 'Mystique', 'Nightcrawler', 'Omega Red', 'Onslaught',\n",
    "    'Pixie', 'Polaris', 'Prodigy', 'Professor X', 'Psylocke', 'Red Skull', 'Rhino', 'Rockslide',\n",
    "    'Rogue', 'Scarlet Witch', 'Sebastian Shaw', 'Selene', 'Shadowcat', 'Shadow King', 'Shatterstar',\n",
    "    'Silver Samurai', 'Sinister Six', 'Skrulls', 'Sage', 'Spider-Man', 'Storm', 'Strong Guy', 'Sunspot',\n",
    "    'Surge', 'Taskmaster', 'Thanos', 'The Hand', 'The Hood', 'Thor', 'U-Foes', 'Ultron', 'Vision',\n",
    "    'Warpath', 'Wasp', 'William Stryker', 'Wolverine', 'Wolverine', 'X-23','X-Men', 'Avengers',\n",
    "    'Ghost Rider', 'Venom', 'Dark Phoenix', 'Inhumans', 'Guardians of the Galaxy', 'Logan', 'Fantastic Four',\n",
    "    'Punisher'\n",
    "]\n",
    "\n",
    "\n"
   ]
  },
  {
   "cell_type": "code",
   "execution_count": 10,
   "metadata": {},
   "outputs": [],
   "source": [
    "df_08 = ccleaner(sales_2008,'2008')\n",
    "df_09 = ccleaner(sales_2009, '2009')\n",
    "df_10 = ccleaner(sales_2010, '2010')\n",
    "df_11 = ccleaner(sales_2011, '2011')\n",
    "df_12 = ccleaner(sales_2012, '2012')\n",
    "df_13 = ccleaner(sales_2013, '2013')\n",
    "df_14 = ccleaner(sales_2014, '2014')\n",
    "df_15 = ccleaner(sales_2015, '2015')\n",
    "df_16 = ccleaner(sales_2016, '2016')\n",
    "df_17 = ccleaner(sales_2017, '2017')\n",
    "df_18 = ccleaner(sales_2018, '2018')\n",
    "df_19 = ccleaner(sales_2019, '2019')\n",
    "df_20 = ccleaner(sales_2020, '2020')\n",
    "df_21 = ccleaner(sales_2021, '2021')"
   ]
  },
  {
   "cell_type": "code",
   "execution_count": 11,
   "metadata": {},
   "outputs": [
    {
     "data": {
      "text/html": [
       "<div>\n",
       "<style scoped>\n",
       "    .dataframe tbody tr th:only-of-type {\n",
       "        vertical-align: middle;\n",
       "    }\n",
       "\n",
       "    .dataframe tbody tr th {\n",
       "        vertical-align: top;\n",
       "    }\n",
       "\n",
       "    .dataframe thead th {\n",
       "        text-align: right;\n",
       "    }\n",
       "</style>\n",
       "<table border=\"1\" class=\"dataframe\">\n",
       "  <thead>\n",
       "    <tr style=\"text-align: right;\">\n",
       "      <th></th>\n",
       "      <th>Character_ID</th>\n",
       "      <th>Date</th>\n",
       "      <th>Character_Name</th>\n",
       "      <th>Total</th>\n",
       "    </tr>\n",
       "  </thead>\n",
       "  <tbody>\n",
       "    <tr>\n",
       "      <th>0</th>\n",
       "      <td>0</td>\n",
       "      <td>2009</td>\n",
       "      <td>Black Panther</td>\n",
       "      <td>214662.0</td>\n",
       "    </tr>\n",
       "    <tr>\n",
       "      <th>1</th>\n",
       "      <td>1</td>\n",
       "      <td>2009</td>\n",
       "      <td>Cable</td>\n",
       "      <td>701665.0</td>\n",
       "    </tr>\n",
       "    <tr>\n",
       "      <th>2</th>\n",
       "      <td>2</td>\n",
       "      <td>2009</td>\n",
       "      <td>Captain America</td>\n",
       "      <td>4948275.0</td>\n",
       "    </tr>\n",
       "    <tr>\n",
       "      <th>3</th>\n",
       "      <td>3</td>\n",
       "      <td>2009</td>\n",
       "      <td>Daredevil</td>\n",
       "      <td>833181.0</td>\n",
       "    </tr>\n",
       "    <tr>\n",
       "      <th>4</th>\n",
       "      <td>4</td>\n",
       "      <td>2009</td>\n",
       "      <td>Deadpool</td>\n",
       "      <td>2702614.0</td>\n",
       "    </tr>\n",
       "    <tr>\n",
       "      <th>5</th>\n",
       "      <td>5</td>\n",
       "      <td>2009</td>\n",
       "      <td>Exodus</td>\n",
       "      <td>310821.0</td>\n",
       "    </tr>\n",
       "    <tr>\n",
       "      <th>6</th>\n",
       "      <td>6</td>\n",
       "      <td>2009</td>\n",
       "      <td>Hulk</td>\n",
       "      <td>5162349.0</td>\n",
       "    </tr>\n",
       "    <tr>\n",
       "      <th>7</th>\n",
       "      <td>7</td>\n",
       "      <td>2009</td>\n",
       "      <td>Iron Man</td>\n",
       "      <td>2158049.0</td>\n",
       "    </tr>\n",
       "    <tr>\n",
       "      <th>8</th>\n",
       "      <td>8</td>\n",
       "      <td>2009</td>\n",
       "      <td>Spider-Man</td>\n",
       "      <td>12278664.0</td>\n",
       "    </tr>\n",
       "    <tr>\n",
       "      <th>9</th>\n",
       "      <td>9</td>\n",
       "      <td>2009</td>\n",
       "      <td>Thor</td>\n",
       "      <td>2143686.0</td>\n",
       "    </tr>\n",
       "    <tr>\n",
       "      <th>10</th>\n",
       "      <td>10</td>\n",
       "      <td>2009</td>\n",
       "      <td>Wolverine</td>\n",
       "      <td>6152875.0</td>\n",
       "    </tr>\n",
       "    <tr>\n",
       "      <th>11</th>\n",
       "      <td>11</td>\n",
       "      <td>2009</td>\n",
       "      <td>X-Men</td>\n",
       "      <td>9657785.0</td>\n",
       "    </tr>\n",
       "    <tr>\n",
       "      <th>12</th>\n",
       "      <td>12</td>\n",
       "      <td>2009</td>\n",
       "      <td>Avengers</td>\n",
       "      <td>15308583.0</td>\n",
       "    </tr>\n",
       "    <tr>\n",
       "      <th>13</th>\n",
       "      <td>13</td>\n",
       "      <td>2009</td>\n",
       "      <td>Logan</td>\n",
       "      <td>477044.0</td>\n",
       "    </tr>\n",
       "    <tr>\n",
       "      <th>14</th>\n",
       "      <td>14</td>\n",
       "      <td>2009</td>\n",
       "      <td>Fantastic Four</td>\n",
       "      <td>1664983.0</td>\n",
       "    </tr>\n",
       "    <tr>\n",
       "      <th>15</th>\n",
       "      <td>15</td>\n",
       "      <td>2009</td>\n",
       "      <td>Punisher</td>\n",
       "      <td>196308.0</td>\n",
       "    </tr>\n",
       "  </tbody>\n",
       "</table>\n",
       "</div>"
      ],
      "text/plain": [
       "    Character_ID  Date   Character_Name       Total\n",
       "0              0  2009    Black Panther    214662.0\n",
       "1              1  2009            Cable    701665.0\n",
       "2              2  2009  Captain America   4948275.0\n",
       "3              3  2009        Daredevil    833181.0\n",
       "4              4  2009         Deadpool   2702614.0\n",
       "5              5  2009           Exodus    310821.0\n",
       "6              6  2009             Hulk   5162349.0\n",
       "7              7  2009         Iron Man   2158049.0\n",
       "8              8  2009       Spider-Man  12278664.0\n",
       "9              9  2009             Thor   2143686.0\n",
       "10            10  2009        Wolverine   6152875.0\n",
       "11            11  2009            X-Men   9657785.0\n",
       "12            12  2009         Avengers  15308583.0\n",
       "13            13  2009            Logan    477044.0\n",
       "14            14  2009   Fantastic Four   1664983.0\n",
       "15            15  2009         Punisher    196308.0"
      ]
     },
     "execution_count": 11,
     "metadata": {},
     "output_type": "execute_result"
    }
   ],
   "source": [
    "creator(df_08, check_list, '2008')\n",
    "characters = creator(df_09, check_list, '2009')\n",
    "creator(df_10, check_list, '2010')\n",
    "creator(df_11, check_list, '2011')\n",
    "creator(df_12, check_list, '2012')\n",
    "creator(df_13, check_list, '2013')\n",
    "creator(df_14, check_list, '2014')\n",
    "creator(df_15, check_list, '2015')\n",
    "creator(df_16, check_list, '2016')\n",
    "creator(df_17, check_list, '2017')\n",
    "creator(df_18, check_list, '2018')\n",
    "creator(df_19, check_list, '2019')\n",
    "creator(df_20, check_list, '2020')\n",
    "creator(df_21, check_list, '2021')\n",
    "characters"
   ]
  },
  {
   "cell_type": "code",
   "execution_count": 12,
   "metadata": {},
   "outputs": [
    {
     "name": "stdout",
     "output_type": "stream",
     "text": [
      "<class 'pandas.core.frame.DataFrame'>\n",
      "RangeIndex: 16 entries, 0 to 15\n",
      "Data columns (total 4 columns):\n",
      " #   Column          Non-Null Count  Dtype  \n",
      "---  ------          --------------  -----  \n",
      " 0   Character_ID    16 non-null     int64  \n",
      " 1   Date            16 non-null     int32  \n",
      " 2   Character_Name  16 non-null     object \n",
      " 3   Total           16 non-null     float64\n",
      "dtypes: float64(1), int32(1), int64(1), object(1)\n",
      "memory usage: 580.0+ bytes\n"
     ]
    }
   ],
   "source": [
    "characters.info()"
   ]
  },
  {
   "cell_type": "code",
   "execution_count": 20,
   "metadata": {},
   "outputs": [],
   "source": [
    "characters = id_generator(characters, 'c', 'Date', 'Character_ID')"
   ]
  },
  {
   "cell_type": "code",
   "execution_count": 14,
   "metadata": {},
   "outputs": [],
   "source": [
    "movies = add_date(movies)"
   ]
  },
  {
   "cell_type": "code",
   "execution_count": 15,
   "metadata": {},
   "outputs": [
    {
     "name": "stdout",
     "output_type": "stream",
     "text": [
      "<class 'pandas.core.frame.DataFrame'>\n",
      "RangeIndex: 46 entries, 0 to 45\n",
      "Data columns (total 8 columns):\n",
      " #   Column                          Non-Null Count  Dtype \n",
      "---  ------                          --------------  ----- \n",
      " 0   Title                           46 non-null     object\n",
      " 1   Distributor(s)                  46 non-null     object\n",
      " 2   Release year                    46 non-null     int32 \n",
      " 3   Budget (millions)               45 non-null     object\n",
      " 4   Opening weekend(North America)  46 non-null     object\n",
      " 5   North America                   46 non-null     object\n",
      " 6   Other territories               46 non-null     object\n",
      " 7   Worldwide                       46 non-null     object\n",
      "dtypes: int32(1), object(7)\n",
      "memory usage: 2.8+ KB\n"
     ]
    }
   ],
   "source": [
    "movies.info()"
   ]
  },
  {
   "cell_type": "code",
   "execution_count": 16,
   "metadata": {},
   "outputs": [],
   "source": [
    "movies = id_generator(movies, 'm', 'Release year', 'Movie_ID')"
   ]
  },
  {
   "cell_type": "code",
   "execution_count": 17,
   "metadata": {},
   "outputs": [],
   "source": [
    "save_csv(movies, 'movie box office')"
   ]
  }
 ],
 "metadata": {
  "kernelspec": {
   "display_name": "Python 3",
   "language": "python",
   "name": "python3"
  },
  "language_info": {
   "codemirror_mode": {
    "name": "ipython",
    "version": 3
   },
   "file_extension": ".py",
   "mimetype": "text/x-python",
   "name": "python",
   "nbconvert_exporter": "python",
   "pygments_lexer": "ipython3",
   "version": "3.11.3"
  }
 },
 "nbformat": 4,
 "nbformat_minor": 2
}
