{
 "cells": [
  {
   "cell_type": "code",
   "execution_count": 36,
   "metadata": {},
   "outputs": [],
   "source": [
    "import pandas as pd \n",
    "import numpy as np\n",
    "from math import log10, floor"
   ]
  },
  {
   "cell_type": "code",
   "execution_count": 37,
   "metadata": {},
   "outputs": [],
   "source": [
    "film = pd.read_csv('data/datasets/data_marvel.csv')"
   ]
  },
  {
   "cell_type": "code",
   "execution_count": 38,
   "metadata": {},
   "outputs": [],
   "source": [
    "sales_2008 = pd.read_csv('data/datasets/sales_2008.csv')\n",
    "sales_2009 = pd.read_csv('data/datasets/sales_2009.csv')\n",
    "sales_2010 = pd.read_csv('data/datasets/sales_2010.csv')\n",
    "sales_2011 = pd.read_csv('data/datasets/sales_2011.csv')\n",
    "sales_2012 = pd.read_csv('data/datasets/sales_2012.csv')\n",
    "sales_2013 = pd.read_csv('data/datasets/sales_2013.csv')\n",
    "sales_2014 = pd.read_csv('data/datasets/sales_2014.csv')\n",
    "sales_2015 = pd.read_csv('data/datasets/sales_2015.csv')\n",
    "sales_2016 = pd.read_csv('data/datasets/sales_2016.csv')\n",
    "sales_2017 = pd.read_csv('data/datasets/sales_2017.csv')\n",
    "sales_2018 = pd.read_csv('data/datasets/sales_2018.csv')\n",
    "sales_2019 = pd.read_csv('data/datasets/sales_2019.csv')\n",
    "sales_2020 = pd.read_csv('data/datasets/sales_2020.csv')\n",
    "sales_2021 = pd.read_csv('data/datasets/sales_2021.csv')"
   ]
  },
  {
   "cell_type": "code",
   "execution_count": 39,
   "metadata": {},
   "outputs": [],
   "source": [
    "def generate_last_digits(index):\n",
    "    num_digits = len(str(index))\n",
    "    return index % (1 ** (num_digits - 5))"
   ]
  },
  {
   "cell_type": "code",
   "execution_count": 40,
   "metadata": {},
   "outputs": [],
   "source": [
    "def format_number(value):\n",
    "    if value >= 1e6:\n",
    "        return f\"{value / 1e6:.2f}M\"\n",
    "    elif value >= 1e3:\n",
    "        return f\"{value / 1e3:.2f}K\"\n",
    "    else:\n",
    "        return f\"{value:.2f}\""
   ]
  },
  {
   "cell_type": "code",
   "execution_count": 41,
   "metadata": {},
   "outputs": [],
   "source": [
    "def comics_creator(data, date):\n",
    "    data['Publish Date'] = date\n",
    "    second_column = data.pop('Publish Date')\n",
    "    data.insert(1, 'Publish Date', second_column)\n",
    "    data['Price'] = data['Price'].replace('[\\$,]', '', regex=True).astype(float)\n",
    "    data['Est. units'] = data['Est. units'].replace(',', '', regex=True).astype(float)\n",
    "    data['Total'] = data['Price'] * data['Est. units']\n",
    "    data['Comic_ID'] = data.index\n",
    "    \n",
    "    data_list = []\n",
    "    df = pd.DataFrame(columns=['Comic_ID', 'Publish Date', 'Comic-book Title', 'Price', 'Publisher', 'Est. units', 'Total', 'Unformatted Total'])\n",
    "    \n",
    "    for index, result in data.iterrows():\n",
    "        local = {}\n",
    "        local['Comic_ID'] = result['Comic_ID']\n",
    "        local['Publish Date'] = result['Publish Date']\n",
    "        local['Comic-book Title'] = result['Comic-book Title']\n",
    "        local['Price'] = result['Price']\n",
    "        local['Publisher'] = result['Publisher']\n",
    "        local['Est. units'] = result['Est. units']\n",
    "        local['Unformatted Total'] = result['Total']\n",
    "        data_list.append(local)\n",
    "    df = pd.DataFrame(data_list)\n",
    "        \n",
    "    df['Total'] = df['Unformatted Total'].apply(format_number)\n",
    "        \n",
    "    df['Publish Date'] = df['Publish Date'].astype(int)\n",
    "    last_two_digits = str(date[-2:])\n",
    "    identifier = {'legend': 315, 'date': last_two_digits, 'index': df.index}\n",
    "    last_digits = generate_last_digits(df.index)\n",
    "    df['Comic_ID'] = str(identifier['legend']) + str(identifier['date']) + last_digits.astype(str) + identifier['index'].astype(str)\n",
    "    \n",
    "    file_name = f'comic_{date}'\n",
    "    df.to_csv(f'data/comics_by_year/{file_name}.csv', index=False)\n",
    "    \n",
    "    return df"
   ]
  },
  {
   "cell_type": "code",
   "execution_count": 42,
   "metadata": {},
   "outputs": [],
   "source": [
    "def box_characters_creator(df, check_list, date):\n",
    "    matches = df[df['Comic-book Title'].str.contains('|'.join(check_list))]\n",
    "    result_dict = {}\n",
    "    for valor_b in check_list:\n",
    "        matching_rows = matches[matches['Comic-book Title'].str.contains(valor_b)]\n",
    "        if not matching_rows.empty:\n",
    "            result_dict[valor_b] = {'Name': valor_b, 'Total': matching_rows['Unformatted Total'].sum()} \n",
    "    result_df = pd.DataFrame.from_dict(result_dict, orient='index').reset_index()\n",
    "    result_df.columns = ['Character_Name', 'Character_ID', 'Unformatted Total']\n",
    "    \n",
    "    identifier = []\n",
    "    check_letter = {'box': 21524}\n",
    "    identifier.append(check_letter.get('box',0))\n",
    "    result_df['Date'] = date\n",
    "    result_df['Date'] = result_df['Date'].astype(int)\n",
    "    last_two_digits = result_df['Date'] % 100\n",
    "    identifier.append(last_two_digits.unique()[0])\n",
    "    identifier.append(result_df.index)\n",
    "    result_df['Character_ID'] = result_df.index\n",
    "    result_df['Character_ID'] = identifier[0] * 10000 + identifier[1] * 100 + identifier[2]\n",
    "    \n",
    "    result_df['Total'] = result_df['Unformatted Total'].apply(format_number)\n",
    "    \n",
    "    result_df = result_df[['Character_ID', 'Date', 'Character_Name', 'Total', 'Unformatted Total']]\n",
    "    file_name = f'box_office_characters_{date}'\n",
    "    result_df.to_csv(f'data/characters_by_year/{file_name}.csv', index=False)\n",
    "    \n",
    "    return result_df"
   ]
  },
  {
   "cell_type": "code",
   "execution_count": 43,
   "metadata": {},
   "outputs": [],
   "source": [
    "def film_creator(df):\n",
    "    identifier = []\n",
    "    check_letter = {'m': 13}\n",
    "    identifier.append(check_letter.get('m',0))\n",
    "    \n",
    "    df['Opening weekend(North America)'] = df['Opening weekend(North America)'].replace('[\\$,]', '', regex=True).astype(float)\n",
    "    df['North America'] = df['North America'].replace('[\\$,]', '', regex=True).astype(float)\n",
    "    df['Other territories'] = df['Other territories'].replace('[\\$,]', '', regex=True).astype(float)\n",
    "    df['Worldwide'] = df['Worldwide'].replace('[\\$,]', '', regex=True).astype(float)\n",
    "    \n",
    "    df['For Opening weekend(North America)'] = df['Opening weekend(North America)'].apply(format_number)\n",
    "    df['For North America'] = df['North America'].apply(format_number)\n",
    "    df['For Other territories'] = df['Other territories'].apply(format_number)\n",
    "    df['For Worldwide'] = df['Worldwide'].apply(format_number)\n",
    "    \n",
    "    df['Release year'] = df['Release date(United States)'].str.extract(r'(\\d{4})')\n",
    "    df['Release year'] = df['Release year'].astype(int)\n",
    "    df.drop('Release date(United States)', axis=1, inplace=True)\n",
    "    second_column = df.pop('Release year')\n",
    "    df.insert(2, 'Release year', second_column)\n",
    "    last_two_digits = df['Release year'] % 100\n",
    "    \n",
    "    identifier.append(last_two_digits.unique()[0])\n",
    "    identifier.append(df.index)\n",
    "    \n",
    "    df['Film_ID'] = df.index\n",
    "    df['Film_ID'] = identifier[0] * 10000 + identifier[1] * 100 + identifier[2]\n",
    "    \n",
    "    cols = list(df.columns)\n",
    "    cols = ['Film_ID'] + cols[:-1]\n",
    "    df = df[cols]\n",
    "    \n",
    "    df.to_csv(f'data/box_office_film.csv', index=False)\n",
    "    df.to_excel(f'data/excel/box_office_film.xlsx', index=False)\n",
    "    return df"
   ]
  },
  {
   "cell_type": "code",
   "execution_count": 44,
   "metadata": {},
   "outputs": [],
   "source": [
    "def join_df(dfs, name):\n",
    "    df = pd.concat(dfs, ignore_index=True)\n",
    "    file_name = f'{name}'\n",
    "    df.to_csv(f'data/{file_name}.csv', index=False)\n",
    "    df.to_excel(f'data/excel/{file_name}.xlsx', index=False)"
   ]
  },
  {
   "cell_type": "code",
   "execution_count": 45,
   "metadata": {},
   "outputs": [],
   "source": [
    "def id_generator(df, check, id_name):\n",
    "    identifier = []\n",
    "    check_letter = {'box':21524,'ch': 38,'co':315, 'd': 4, 'h': 8, 'm': 13}\n",
    "    identifier.append(check_letter.get(check, 0))\n",
    "    identifier.append(df.index)\n",
    "    df[id_name] = identifier[0] * 100 + identifier[1]\n",
    "    cols = list(df.columns)\n",
    "    cols = [id_name] + cols[0:]\n",
    "    df = df[cols]\n",
    "    return df"
   ]
  },
  {
   "cell_type": "code",
   "execution_count": 46,
   "metadata": {},
   "outputs": [],
   "source": [
    "def save_csv(data, name):\n",
    "    file_name = f'{name}.csv'\n",
    "    data.to_csv(f'data/{file_name}', index=False)"
   ]
  },
  {
   "cell_type": "code",
   "execution_count": 47,
   "metadata": {},
   "outputs": [],
   "source": [
    "def save_excel(df, name):\n",
    "    file_name = f'{name}.csv'\n",
    "    df.to_excel(f'data/{file_name}', index=False)"
   ]
  },
  {
   "cell_type": "code",
   "execution_count": 48,
   "metadata": {},
   "outputs": [],
   "source": [
    "def add_date(data):\n",
    "    data['Release year'] = data['Release date(United States)'].str.extract(r'(\\d{4})')\n",
    "    data['Release year'] = data['Release year'].astype(int)\n",
    "    data.drop('Release date(United States)', axis=1, inplace=True)\n",
    "    second_column = data.pop('Release year')\n",
    "    data.insert(2, 'Release year', second_column)\n",
    "    return data"
   ]
  },
  {
   "cell_type": "code",
   "execution_count": 49,
   "metadata": {},
   "outputs": [],
   "source": [
    "check_list = [\n",
    "    'Absorbing Man', 'A.I.M.', 'Anole', 'Apocalypse', 'Archangel', 'Avalanche', 'Bastion', 'Beast',\n",
    "    'Beyonder', 'Black Panther', 'Black Widow', 'Blob', 'Cable', 'Cannonball', 'Captain America',\n",
    "    'Cassandra Nova', 'Chamber', 'Colossus', 'Crossbones', 'Cypher', 'Daredevil', 'Dark Phoenix',\n",
    "    'Deadpool', 'Doctor Strange', 'Domino', 'Dust', 'Emma Frost', 'Exodus', 'Falcon', 'Fantomex',\n",
    "    'Feral', 'Forge', 'Gambit', 'Gideon', 'Grandmaster', 'Grim Reaper', 'Havok', 'Hela', 'Hellion',\n",
    "    'Hope Summers', 'Hulk', 'Iceman', 'Iron Man', 'Iron Patriot', 'Jean Grey', 'Jean Grey', 'Jubilee',\n",
    "    'Juggernaut', 'Juggernaut', 'Kang', 'Karma', 'Korvac', 'Klaw', 'Lady Deathstrike', 'Living Laser',\n",
    "    'Loki', 'Longshot', 'Luke Cage', 'M.O.D.O.K.', 'Magneto', 'Marrow', 'Mastermind', 'Master Mold',\n",
    "    'Marauders', 'Marvel Boy', 'Multiple Man', 'Mystique', 'Nightcrawler', 'Omega Red', 'Onslaught',\n",
    "    'Pixie', 'Polaris', 'Prodigy', 'Professor X', 'Psylocke', 'Red Skull', 'Rhino', 'Rockslide',\n",
    "    'Rogue', 'Scarlet Witch', 'Sebastian Shaw', 'Selene', 'Shadowcat', 'Shadow King', 'Shatterstar',\n",
    "    'Silver Samurai', 'Sinister Six', 'Skrulls', 'Sage', 'Spider-Man', 'Storm', 'Strong Guy', 'Sunspot',\n",
    "    'Surge', 'Taskmaster', 'Thanos', 'The Hand', 'The Hood', 'Thor', 'U-Foes', 'Ultron', 'Vision',\n",
    "    'Warpath', 'Wasp', 'William Stryker', 'Wolverine', 'Wolverine', 'X-23','X-Men', 'Avengers',\n",
    "    'Ghost Rider', 'Venom', 'Dark Phoenix', 'Inhumans', 'Guardians of the Galaxy', 'Logan', 'Fantastic Four',\n",
    "    'Punisher'\n",
    "]\n",
    "\n",
    "\n"
   ]
  },
  {
   "cell_type": "code",
   "execution_count": 50,
   "metadata": {},
   "outputs": [],
   "source": [
    "film = film_creator(film)"
   ]
  },
  {
   "cell_type": "code",
   "execution_count": 51,
   "metadata": {},
   "outputs": [],
   "source": [
    "df_08 = comics_creator(sales_2008,'2008')\n",
    "df_09 = comics_creator(sales_2009, '2009')\n",
    "df_10 = comics_creator(sales_2010, '2010')\n",
    "df_11 = comics_creator(sales_2011, '2011')\n",
    "df_12 = comics_creator(sales_2012, '2012')\n",
    "df_13 = comics_creator(sales_2013, '2013')\n",
    "df_14 = comics_creator(sales_2014, '2014')\n",
    "df_15 = comics_creator(sales_2015, '2015')\n",
    "df_16 = comics_creator(sales_2016, '2016')\n",
    "df_17 = comics_creator(sales_2017, '2017')\n",
    "df_18 = comics_creator(sales_2018, '2018')\n",
    "df_19 = comics_creator(sales_2019, '2019')\n",
    "df_20 = comics_creator(sales_2020, '2020')\n",
    "df_21 = comics_creator(sales_2021, '2021')"
   ]
  },
  {
   "cell_type": "code",
   "execution_count": 52,
   "metadata": {},
   "outputs": [],
   "source": [
    "comic = join_df([\n",
    "    df_08, df_09, df_10,\n",
    "    df_11, df_12, df_13,\n",
    "    df_14, df_15, df_16,\n",
    "    df_17, df_18, df_19, \n",
    "    df_20, df_21], \n",
    "    name = 'box_office_comics' \n",
    "    )"
   ]
  },
  {
   "cell_type": "code",
   "execution_count": 53,
   "metadata": {},
   "outputs": [],
   "source": [
    "characters_08 = box_characters_creator(df_08, check_list, '2008')\n",
    "characters_09 = box_characters_creator(df_09, check_list, '2009')\n",
    "characters_10 = box_characters_creator(df_10, check_list, '2010')\n",
    "characters_11 = box_characters_creator(df_11, check_list, '2011')\n",
    "characters_12 = box_characters_creator(df_12, check_list, '2012')\n",
    "characters_13 = box_characters_creator(df_13, check_list, '2013')\n",
    "characters_14 = box_characters_creator(df_14, check_list, '2014')\n",
    "characters_15 = box_characters_creator(df_15, check_list, '2015')\n",
    "characters_16 = box_characters_creator(df_16, check_list, '2016')\n",
    "characters_17 = box_characters_creator(df_17, check_list, '2017')\n",
    "characters_18 = box_characters_creator(df_18, check_list, '2018')\n",
    "characters_19 = box_characters_creator(df_19, check_list, '2019')\n",
    "characters_20 = box_characters_creator(df_20, check_list, '2020')\n",
    "characters_21 = box_characters_creator(df_21, check_list, '2021')\n"
   ]
  },
  {
   "cell_type": "code",
   "execution_count": 54,
   "metadata": {},
   "outputs": [],
   "source": [
    "join_df(\n",
    "        [characters_08, characters_09, characters_10, \n",
    "        characters_11, characters_12, characters_13,\n",
    "        characters_14, characters_15, characters_16,\n",
    "        characters_17, characters_18, characters_19,\n",
    "        characters_20, characters_21], \n",
    "        name='box_office_characters'\n",
    "        )"
   ]
  },
  {
   "cell_type": "code",
   "execution_count": 55,
   "metadata": {},
   "outputs": [],
   "source": [
    "char = pd.read_csv('data/box_office_characters.csv')\n",
    "unique = pd.DataFrame(char['Character_Name'].unique())\n",
    "unique['Name'] = unique[0]\n",
    "unique.drop(0, axis=1, inplace=True)"
   ]
  },
  {
   "cell_type": "code",
   "execution_count": 56,
   "metadata": {},
   "outputs": [
    {
     "ename": "ValueError",
     "evalue": "No engine for filetype: 'csv'",
     "output_type": "error",
     "traceback": [
      "\u001b[1;31m---------------------------------------------------------------------------\u001b[0m",
      "\u001b[1;31mOptionError\u001b[0m                               Traceback (most recent call last)",
      "File \u001b[1;32mc:\\Users\\leona\\AppData\\Local\\Programs\\Python\\Python311\\Lib\\site-packages\\pandas\\io\\excel\\_base.py:1153\u001b[0m, in \u001b[0;36mExcelWriter.__new__\u001b[1;34m(cls, path, engine, date_format, datetime_format, mode, storage_options, if_sheet_exists, engine_kwargs)\u001b[0m\n\u001b[0;32m   1152\u001b[0m \u001b[38;5;28;01mtry\u001b[39;00m:\n\u001b[1;32m-> 1153\u001b[0m     engine \u001b[38;5;241m=\u001b[39m \u001b[43mconfig\u001b[49m\u001b[38;5;241;43m.\u001b[39;49m\u001b[43mget_option\u001b[49m\u001b[43m(\u001b[49m\u001b[38;5;124;43mf\u001b[39;49m\u001b[38;5;124;43m\"\u001b[39;49m\u001b[38;5;124;43mio.excel.\u001b[39;49m\u001b[38;5;132;43;01m{\u001b[39;49;00m\u001b[43mext\u001b[49m\u001b[38;5;132;43;01m}\u001b[39;49;00m\u001b[38;5;124;43m.writer\u001b[39;49m\u001b[38;5;124;43m\"\u001b[39;49m\u001b[43m,\u001b[49m\u001b[43m \u001b[49m\u001b[43msilent\u001b[49m\u001b[38;5;241;43m=\u001b[39;49m\u001b[38;5;28;43;01mTrue\u001b[39;49;00m\u001b[43m)\u001b[49m\n\u001b[0;32m   1154\u001b[0m     \u001b[38;5;28;01mif\u001b[39;00m engine \u001b[38;5;241m==\u001b[39m \u001b[38;5;124m\"\u001b[39m\u001b[38;5;124mauto\u001b[39m\u001b[38;5;124m\"\u001b[39m:\n",
      "File \u001b[1;32mc:\\Users\\leona\\AppData\\Local\\Programs\\Python\\Python311\\Lib\\site-packages\\pandas\\_config\\config.py:272\u001b[0m, in \u001b[0;36mCallableDynamicDoc.__call__\u001b[1;34m(self, *args, **kwds)\u001b[0m\n\u001b[0;32m    271\u001b[0m \u001b[38;5;28;01mdef\u001b[39;00m \u001b[38;5;21m__call__\u001b[39m(\u001b[38;5;28mself\u001b[39m, \u001b[38;5;241m*\u001b[39margs, \u001b[38;5;241m*\u001b[39m\u001b[38;5;241m*\u001b[39mkwds) \u001b[38;5;241m-\u001b[39m\u001b[38;5;241m>\u001b[39m T:\n\u001b[1;32m--> 272\u001b[0m     \u001b[38;5;28;01mreturn\u001b[39;00m \u001b[38;5;28;43mself\u001b[39;49m\u001b[38;5;241;43m.\u001b[39;49m\u001b[38;5;18;43m__func__\u001b[39;49m\u001b[43m(\u001b[49m\u001b[38;5;241;43m*\u001b[39;49m\u001b[43margs\u001b[49m\u001b[43m,\u001b[49m\u001b[43m \u001b[49m\u001b[38;5;241;43m*\u001b[39;49m\u001b[38;5;241;43m*\u001b[39;49m\u001b[43mkwds\u001b[49m\u001b[43m)\u001b[49m\n",
      "File \u001b[1;32mc:\\Users\\leona\\AppData\\Local\\Programs\\Python\\Python311\\Lib\\site-packages\\pandas\\_config\\config.py:146\u001b[0m, in \u001b[0;36m_get_option\u001b[1;34m(pat, silent)\u001b[0m\n\u001b[0;32m    145\u001b[0m \u001b[38;5;28;01mdef\u001b[39;00m \u001b[38;5;21m_get_option\u001b[39m(pat: \u001b[38;5;28mstr\u001b[39m, silent: \u001b[38;5;28mbool\u001b[39m \u001b[38;5;241m=\u001b[39m \u001b[38;5;28;01mFalse\u001b[39;00m) \u001b[38;5;241m-\u001b[39m\u001b[38;5;241m>\u001b[39m Any:\n\u001b[1;32m--> 146\u001b[0m     key \u001b[38;5;241m=\u001b[39m \u001b[43m_get_single_key\u001b[49m\u001b[43m(\u001b[49m\u001b[43mpat\u001b[49m\u001b[43m,\u001b[49m\u001b[43m \u001b[49m\u001b[43msilent\u001b[49m\u001b[43m)\u001b[49m\n\u001b[0;32m    148\u001b[0m     \u001b[38;5;66;03m# walk the nested dict\u001b[39;00m\n",
      "File \u001b[1;32mc:\\Users\\leona\\AppData\\Local\\Programs\\Python\\Python311\\Lib\\site-packages\\pandas\\_config\\config.py:132\u001b[0m, in \u001b[0;36m_get_single_key\u001b[1;34m(pat, silent)\u001b[0m\n\u001b[0;32m    131\u001b[0m         _warn_if_deprecated(pat)\n\u001b[1;32m--> 132\u001b[0m     \u001b[38;5;28;01mraise\u001b[39;00m OptionError(\u001b[38;5;124mf\u001b[39m\u001b[38;5;124m\"\u001b[39m\u001b[38;5;124mNo such keys(s): \u001b[39m\u001b[38;5;132;01m{\u001b[39;00m\u001b[38;5;28mrepr\u001b[39m(pat)\u001b[38;5;132;01m}\u001b[39;00m\u001b[38;5;124m\"\u001b[39m)\n\u001b[0;32m    133\u001b[0m \u001b[38;5;28;01mif\u001b[39;00m \u001b[38;5;28mlen\u001b[39m(keys) \u001b[38;5;241m>\u001b[39m \u001b[38;5;241m1\u001b[39m:\n",
      "\u001b[1;31mOptionError\u001b[0m: No such keys(s): 'io.excel.csv.writer'",
      "\nThe above exception was the direct cause of the following exception:\n",
      "\u001b[1;31mValueError\u001b[0m                                Traceback (most recent call last)",
      "Cell \u001b[1;32mIn[56], line 3\u001b[0m\n\u001b[0;32m      1\u001b[0m id_generator(unique, \u001b[38;5;124m'\u001b[39m\u001b[38;5;124mch\u001b[39m\u001b[38;5;124m'\u001b[39m, \u001b[38;5;124m'\u001b[39m\u001b[38;5;124mChar_id\u001b[39m\u001b[38;5;124m'\u001b[39m)\n\u001b[0;32m      2\u001b[0m save_csv(unique, \u001b[38;5;124m'\u001b[39m\u001b[38;5;124mcharacters\u001b[39m\u001b[38;5;124m'\u001b[39m)\n\u001b[1;32m----> 3\u001b[0m \u001b[43msave_excel\u001b[49m\u001b[43m(\u001b[49m\u001b[43munique\u001b[49m\u001b[43m,\u001b[49m\u001b[43m \u001b[49m\u001b[38;5;124;43m'\u001b[39;49m\u001b[38;5;124;43mcharacters\u001b[39;49m\u001b[38;5;124;43m'\u001b[39;49m\u001b[43m)\u001b[49m\n",
      "Cell \u001b[1;32mIn[47], line 3\u001b[0m, in \u001b[0;36msave_excel\u001b[1;34m(df, name)\u001b[0m\n\u001b[0;32m      1\u001b[0m \u001b[38;5;28;01mdef\u001b[39;00m \u001b[38;5;21msave_excel\u001b[39m(df, name):\n\u001b[0;32m      2\u001b[0m     file_name \u001b[38;5;241m=\u001b[39m \u001b[38;5;124mf\u001b[39m\u001b[38;5;124m'\u001b[39m\u001b[38;5;132;01m{\u001b[39;00mname\u001b[38;5;132;01m}\u001b[39;00m\u001b[38;5;124m.csv\u001b[39m\u001b[38;5;124m'\u001b[39m\n\u001b[1;32m----> 3\u001b[0m     \u001b[43mdf\u001b[49m\u001b[38;5;241;43m.\u001b[39;49m\u001b[43mto_excel\u001b[49m\u001b[43m(\u001b[49m\u001b[38;5;124;43mf\u001b[39;49m\u001b[38;5;124;43m'\u001b[39;49m\u001b[38;5;124;43mdata/\u001b[39;49m\u001b[38;5;132;43;01m{\u001b[39;49;00m\u001b[43mfile_name\u001b[49m\u001b[38;5;132;43;01m}\u001b[39;49;00m\u001b[38;5;124;43m'\u001b[39;49m\u001b[43m,\u001b[49m\u001b[43m \u001b[49m\u001b[43mindex\u001b[49m\u001b[38;5;241;43m=\u001b[39;49m\u001b[38;5;28;43;01mFalse\u001b[39;49;00m\u001b[43m)\u001b[49m\n",
      "File \u001b[1;32mc:\\Users\\leona\\AppData\\Local\\Programs\\Python\\Python311\\Lib\\site-packages\\pandas\\core\\generic.py:2345\u001b[0m, in \u001b[0;36mNDFrame.to_excel\u001b[1;34m(self, excel_writer, sheet_name, na_rep, float_format, columns, header, index, index_label, startrow, startcol, engine, merge_cells, inf_rep, freeze_panes, storage_options, engine_kwargs)\u001b[0m\n\u001b[0;32m   2332\u001b[0m \u001b[38;5;28;01mfrom\u001b[39;00m \u001b[38;5;21;01mpandas\u001b[39;00m\u001b[38;5;21;01m.\u001b[39;00m\u001b[38;5;21;01mio\u001b[39;00m\u001b[38;5;21;01m.\u001b[39;00m\u001b[38;5;21;01mformats\u001b[39;00m\u001b[38;5;21;01m.\u001b[39;00m\u001b[38;5;21;01mexcel\u001b[39;00m \u001b[38;5;28;01mimport\u001b[39;00m ExcelFormatter\n\u001b[0;32m   2334\u001b[0m formatter \u001b[38;5;241m=\u001b[39m ExcelFormatter(\n\u001b[0;32m   2335\u001b[0m     df,\n\u001b[0;32m   2336\u001b[0m     na_rep\u001b[38;5;241m=\u001b[39mna_rep,\n\u001b[1;32m   (...)\u001b[0m\n\u001b[0;32m   2343\u001b[0m     inf_rep\u001b[38;5;241m=\u001b[39minf_rep,\n\u001b[0;32m   2344\u001b[0m )\n\u001b[1;32m-> 2345\u001b[0m \u001b[43mformatter\u001b[49m\u001b[38;5;241;43m.\u001b[39;49m\u001b[43mwrite\u001b[49m\u001b[43m(\u001b[49m\n\u001b[0;32m   2346\u001b[0m \u001b[43m    \u001b[49m\u001b[43mexcel_writer\u001b[49m\u001b[43m,\u001b[49m\n\u001b[0;32m   2347\u001b[0m \u001b[43m    \u001b[49m\u001b[43msheet_name\u001b[49m\u001b[38;5;241;43m=\u001b[39;49m\u001b[43msheet_name\u001b[49m\u001b[43m,\u001b[49m\n\u001b[0;32m   2348\u001b[0m \u001b[43m    \u001b[49m\u001b[43mstartrow\u001b[49m\u001b[38;5;241;43m=\u001b[39;49m\u001b[43mstartrow\u001b[49m\u001b[43m,\u001b[49m\n\u001b[0;32m   2349\u001b[0m \u001b[43m    \u001b[49m\u001b[43mstartcol\u001b[49m\u001b[38;5;241;43m=\u001b[39;49m\u001b[43mstartcol\u001b[49m\u001b[43m,\u001b[49m\n\u001b[0;32m   2350\u001b[0m \u001b[43m    \u001b[49m\u001b[43mfreeze_panes\u001b[49m\u001b[38;5;241;43m=\u001b[39;49m\u001b[43mfreeze_panes\u001b[49m\u001b[43m,\u001b[49m\n\u001b[0;32m   2351\u001b[0m \u001b[43m    \u001b[49m\u001b[43mengine\u001b[49m\u001b[38;5;241;43m=\u001b[39;49m\u001b[43mengine\u001b[49m\u001b[43m,\u001b[49m\n\u001b[0;32m   2352\u001b[0m \u001b[43m    \u001b[49m\u001b[43mstorage_options\u001b[49m\u001b[38;5;241;43m=\u001b[39;49m\u001b[43mstorage_options\u001b[49m\u001b[43m,\u001b[49m\n\u001b[0;32m   2353\u001b[0m \u001b[43m    \u001b[49m\u001b[43mengine_kwargs\u001b[49m\u001b[38;5;241;43m=\u001b[39;49m\u001b[43mengine_kwargs\u001b[49m\u001b[43m,\u001b[49m\n\u001b[0;32m   2354\u001b[0m \u001b[43m\u001b[49m\u001b[43m)\u001b[49m\n",
      "File \u001b[1;32mc:\\Users\\leona\\AppData\\Local\\Programs\\Python\\Python311\\Lib\\site-packages\\pandas\\io\\formats\\excel.py:946\u001b[0m, in \u001b[0;36mExcelFormatter.write\u001b[1;34m(self, writer, sheet_name, startrow, startcol, freeze_panes, engine, storage_options, engine_kwargs)\u001b[0m\n\u001b[0;32m    942\u001b[0m     need_save \u001b[38;5;241m=\u001b[39m \u001b[38;5;28;01mFalse\u001b[39;00m\n\u001b[0;32m    943\u001b[0m \u001b[38;5;28;01melse\u001b[39;00m:\n\u001b[0;32m    944\u001b[0m     \u001b[38;5;66;03m# error: Cannot instantiate abstract class 'ExcelWriter' with abstract\u001b[39;00m\n\u001b[0;32m    945\u001b[0m     \u001b[38;5;66;03m# attributes 'engine', 'save', 'supported_extensions' and 'write_cells'\u001b[39;00m\n\u001b[1;32m--> 946\u001b[0m     writer \u001b[38;5;241m=\u001b[39m \u001b[43mExcelWriter\u001b[49m\u001b[43m(\u001b[49m\u001b[43m  \u001b[49m\u001b[38;5;66;43;03m# type: ignore[abstract]\u001b[39;49;00m\n\u001b[0;32m    947\u001b[0m \u001b[43m        \u001b[49m\u001b[43mwriter\u001b[49m\u001b[43m,\u001b[49m\n\u001b[0;32m    948\u001b[0m \u001b[43m        \u001b[49m\u001b[43mengine\u001b[49m\u001b[38;5;241;43m=\u001b[39;49m\u001b[43mengine\u001b[49m\u001b[43m,\u001b[49m\n\u001b[0;32m    949\u001b[0m \u001b[43m        \u001b[49m\u001b[43mstorage_options\u001b[49m\u001b[38;5;241;43m=\u001b[39;49m\u001b[43mstorage_options\u001b[49m\u001b[43m,\u001b[49m\n\u001b[0;32m    950\u001b[0m \u001b[43m        \u001b[49m\u001b[43mengine_kwargs\u001b[49m\u001b[38;5;241;43m=\u001b[39;49m\u001b[43mengine_kwargs\u001b[49m\u001b[43m,\u001b[49m\n\u001b[0;32m    951\u001b[0m \u001b[43m    \u001b[49m\u001b[43m)\u001b[49m\n\u001b[0;32m    952\u001b[0m     need_save \u001b[38;5;241m=\u001b[39m \u001b[38;5;28;01mTrue\u001b[39;00m\n\u001b[0;32m    954\u001b[0m \u001b[38;5;28;01mtry\u001b[39;00m:\n",
      "File \u001b[1;32mc:\\Users\\leona\\AppData\\Local\\Programs\\Python\\Python311\\Lib\\site-packages\\pandas\\io\\excel\\_base.py:1157\u001b[0m, in \u001b[0;36mExcelWriter.__new__\u001b[1;34m(cls, path, engine, date_format, datetime_format, mode, storage_options, if_sheet_exists, engine_kwargs)\u001b[0m\n\u001b[0;32m   1155\u001b[0m             engine \u001b[38;5;241m=\u001b[39m get_default_engine(ext, mode\u001b[38;5;241m=\u001b[39m\u001b[38;5;124m\"\u001b[39m\u001b[38;5;124mwriter\u001b[39m\u001b[38;5;124m\"\u001b[39m)\n\u001b[0;32m   1156\u001b[0m     \u001b[38;5;28;01mexcept\u001b[39;00m \u001b[38;5;167;01mKeyError\u001b[39;00m \u001b[38;5;28;01mas\u001b[39;00m err:\n\u001b[1;32m-> 1157\u001b[0m         \u001b[38;5;28;01mraise\u001b[39;00m \u001b[38;5;167;01mValueError\u001b[39;00m(\u001b[38;5;124mf\u001b[39m\u001b[38;5;124m\"\u001b[39m\u001b[38;5;124mNo engine for filetype: \u001b[39m\u001b[38;5;124m'\u001b[39m\u001b[38;5;132;01m{\u001b[39;00mext\u001b[38;5;132;01m}\u001b[39;00m\u001b[38;5;124m'\u001b[39m\u001b[38;5;124m\"\u001b[39m) \u001b[38;5;28;01mfrom\u001b[39;00m \u001b[38;5;21;01merr\u001b[39;00m\n\u001b[0;32m   1159\u001b[0m \u001b[38;5;66;03m# for mypy\u001b[39;00m\n\u001b[0;32m   1160\u001b[0m \u001b[38;5;28;01massert\u001b[39;00m engine \u001b[38;5;129;01mis\u001b[39;00m \u001b[38;5;129;01mnot\u001b[39;00m \u001b[38;5;28;01mNone\u001b[39;00m\n",
      "\u001b[1;31mValueError\u001b[0m: No engine for filetype: 'csv'"
     ]
    }
   ],
   "source": [
    "id_generator(unique, 'ch', 'Char_id')\n",
    "save_csv(unique, 'characters')\n",
    "save_excel(unique, 'characters')"
   ]
  }
 ],
 "metadata": {
  "kernelspec": {
   "display_name": "Python 3",
   "language": "python",
   "name": "python3"
  },
  "language_info": {
   "codemirror_mode": {
    "name": "ipython",
    "version": 3
   },
   "file_extension": ".py",
   "mimetype": "text/x-python",
   "name": "python",
   "nbconvert_exporter": "python",
   "pygments_lexer": "ipython3",
   "version": "3.11.3"
  }
 },
 "nbformat": 4,
 "nbformat_minor": 2
}
